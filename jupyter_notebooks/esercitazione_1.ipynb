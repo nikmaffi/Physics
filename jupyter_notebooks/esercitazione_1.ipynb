{
 "cells": [
  {
   "cell_type": "markdown",
   "metadata": {},
   "source": [
    "### Esercizio 1\n",
    "__Scrivete una funzione, `sq(x,y,z)`, che restituisca__ \n",
    "- __il quadrato della sommadelle variabili in input : sqsum =  (x + y + z)\\*\\*2__\n",
    "- __la somma dei loro quadrati: sumsq = x\\*\\*2 + y\\*\\*2 + z\\*\\*2__\n",
    "\n",
    "__Testate la funzione con alcuni semplici esempi, usando sia numeri interi che reali.__"
   ]
  },
  {
   "cell_type": "code",
   "execution_count": 106,
   "metadata": {},
   "outputs": [],
   "source": [
    "import math, cmath, random"
   ]
  },
  {
   "cell_type": "code",
   "execution_count": 107,
   "metadata": {},
   "outputs": [],
   "source": [
    "#Definizione\n",
    "def sq(x, y, z):\n",
    "    sqsum = (x + y + z)**2\n",
    "    sumsq = x**2 + y**2 + z**2\n",
    "    \n",
    "    return sqsum, sumsq"
   ]
  },
  {
   "cell_type": "code",
   "execution_count": 108,
   "metadata": {},
   "outputs": [
    {
     "name": "stdout",
     "output_type": "stream",
     "text": [
      "Test per 7 8 10 -> Somma al quadrato 625 ; Quadrato della somma 213\n",
      "Test per 0 8 3 -> Somma al quadrato 121 ; Quadrato della somma 73\n",
      "Test per 1 6 8 -> Somma al quadrato 225 ; Quadrato della somma 101\n",
      "Test per 1 3 6 -> Somma al quadrato 100 ; Quadrato della somma 46\n",
      "Test per 10 4 9 -> Somma al quadrato 529 ; Quadrato della somma 197\n",
      "Test per 9 4 9 -> Somma al quadrato 484 ; Quadrato della somma 178\n",
      "Test per 5 6 5 -> Somma al quadrato 256 ; Quadrato della somma 86\n",
      "Test per 4 5 3 -> Somma al quadrato 144 ; Quadrato della somma 50\n",
      "Test per 5 4 2 -> Somma al quadrato 121 ; Quadrato della somma 45\n",
      "Test per 1 5 4 -> Somma al quadrato 100 ; Quadrato della somma 42\n",
      "Test per 10 8 6 -> Somma al quadrato 576 ; Quadrato della somma 200\n",
      "Test per 0 0 0 -> Somma al quadrato 0 ; Quadrato della somma 0\n",
      "Test per 7 7 6 -> Somma al quadrato 400 ; Quadrato della somma 134\n",
      "Test per 1 3 6 -> Somma al quadrato 100 ; Quadrato della somma 46\n",
      "Test per 9 0 5 -> Somma al quadrato 196 ; Quadrato della somma 106\n"
     ]
    }
   ],
   "source": [
    "#Test Interi\n",
    "for _ in range(0, 15):\n",
    "    num1 = random.randint(0, 10)\n",
    "    num2 = random.randint(0, 10)\n",
    "    num3 = random.randint(0, 10)\n",
    "    \n",
    "    res = sq(num1, num2, num3)\n",
    "    \n",
    "    print(f\"Test per {num1} {num2} {num3} -> Somma al quadrato {res[0]} ; Quadrato della somma {res[1]}\")"
   ]
  },
  {
   "cell_type": "code",
   "execution_count": 109,
   "metadata": {},
   "outputs": [
    {
     "name": "stdout",
     "output_type": "stream",
     "text": [
      "Test per 7.644280297495448 7.777579674545338 6.39168654759192 -> Somma al quadrato 475.8308117641801 ; Quadrato della somma 159.7794237832454\n",
      "\n",
      "Test per 4.976920658622921 0.5516208337036266 2.3384704416270132 -> Somma al quadrato 61.88987676896775 ; Quadrato della somma 30.542468792766734\n",
      "\n",
      "Test per 9.369508148125295 0.5579889292105755 2.47389853713044 -> Somma al quadrato 153.79461318650422 ; Quadrato della somma 94.21920855492398\n",
      "\n",
      "Test per 9.993617055695143 0.0874908235842542 6.750083402952716 -> Somma al quadrato 283.28899997908627 ; Quadrato della somma 145.44366244691003\n",
      "\n",
      "Test per 1.6435528849730263 7.254657478409037 4.15907950505926 -> Somma al quadrato 170.49281870850044 ; Quadrato della somma 72.62926354414331\n",
      "\n",
      "Test per 1.2636248092147417 8.38143089164203 3.8780947322422774 -> Somma al quadrato 182.87559763622696 ; Quadrato della somma 86.8847502020796\n",
      "\n",
      "Test per 3.331349156340476 9.321623800125472 9.580984151873071 -> Somma al quadrato 494.3488486954592 ; Quadrato della somma 189.78581479095902\n",
      "\n",
      "Test per 2.846497519676161 6.672260539976396 6.772662264728346 -> Somma al quadrato 265.4103761856511 ; Quadrato della somma 98.49056299492393\n",
      "\n",
      "Test per 4.882415056295709 7.07592452741869 8.623044448512196 -> Somma al quadrato 423.5933686819918 ; Quadrato della somma 148.26358026068544\n",
      "\n",
      "Test per 8.62109142259377 7.760506559292225 9.322482292371165 -> Somma al quadrato 660.699742745456 ; Quadrato della somma 221.45735546511145\n",
      "\n",
      "Test per 7.509013233913803 4.248669461700711 3.083431329704367 -> Somma al quadrato 220.25866551251679 ; Quadrato della somma 83.9440207068833\n",
      "\n",
      "Test per 0.4507527602013517 4.570584124782978 3.418021135771369 -> Somma al quadrato 71.22276380249353 ; Quadrato della somma 32.776285777127114\n",
      "\n",
      "Test per 8.201417623306305 7.5626232159611835 4.5510822646601925 -> Somma al quadrato 412.7042267277363 ; Quadrato della somma 145.16887071817885\n",
      "\n",
      "Test per 1.2648681452242128 1.1012105516207082 6.846345903966627 -> Somma al quadrato 84.86876702563782 ; Quadrato della somma 49.68500834056434\n",
      "\n",
      "Test per 8.40534754807013 9.339875260212114 1.8235936138516973 -> Somma al quadrato 382.93857616317905 ; Quadrato della somma 161.20863094865157\n",
      "\n"
     ]
    }
   ],
   "source": [
    "#Test reali\n",
    "for _ in range(0, 15):\n",
    "    num1 = random.uniform(.0, 10.)\n",
    "    num2 = random.uniform(.0, 10.)\n",
    "    num3 = random.uniform(.0, 10.)\n",
    "    \n",
    "    res = sq(num1, num2, num3)\n",
    "    \n",
    "    print(f\"Test per {num1} {num2} {num3} -> Somma al quadrato {res[0]} ; Quadrato della somma {res[1]}\\n\")"
   ]
  },
  {
   "cell_type": "markdown",
   "metadata": {},
   "source": [
    "### Esercizio 2\n",
    "__Scrivete una funzione, `g(z1,z2)` che dati due numeri complessi `z1` e `z2` restituisca il modulo del rapporto fra `z1` e `z2`.\n",
    "Verificate la vostra funzione per z1,z2 = 0,-1; $\\,\\,$ z1,z2 = $e^{-i\\,\\pi/4}$,$e^{-i\\,\\pi/4}$; $\\,\\,$ z1,z2 = $e^{-i\\,\\pi/4}$,$e^{i\\,\\pi/4}$.__"
   ]
  },
  {
   "cell_type": "code",
   "execution_count": 110,
   "metadata": {},
   "outputs": [],
   "source": [
    "def g(z1, z2):\n",
    "    z3 = z1/z2\n",
    "        \n",
    "    return abs(z3)     "
   ]
  },
  {
   "cell_type": "code",
   "execution_count": 111,
   "metadata": {},
   "outputs": [
    {
     "name": "stdout",
     "output_type": "stream",
     "text": [
      "0.0\n",
      "1.0\n",
      "1.0\n"
     ]
    }
   ],
   "source": [
    "print( g( 0, -1 ) )\n",
    "print( g( cmath.exp(complex(0, -math.pi/4)) , cmath.exp(complex(0, -math.pi/4)) ) )\n",
    "print( g( cmath.exp(complex(0, -math.pi/4)) , cmath.exp(complex(0, math.pi/4)) ) )"
   ]
  },
  {
   "cell_type": "markdown",
   "metadata": {},
   "source": [
    "### Esercizio 3\n",
    "__Scrivete una funzione, `my_add_dict(d)`, che, dato in input un dizionario `d` in cui le chiavi sono numeri interi e i valori siano numeri reali, determini la chiave più piccola e il valore più grande. Questi due valori devono essere aggiunti a `d` usando come rispettive chiavi 'min_key' e 'max_val' e il dizionario modificato deve essere restituito.__ \n",
    "__Se, per esempio, d = {1:0., 2:3.14, 3:1}, `my_add_dict(d)`, deve restituire 1 e 3.14 nella forma {1:0., 2:3.14, 3:1, 'min_key':1, 'max_val':3.14}.__"
   ]
  },
  {
   "cell_type": "code",
   "execution_count": 112,
   "metadata": {},
   "outputs": [],
   "source": [
    "def my_add_dict(d):\n",
    "    d['min_key'] = min(d.keys())\n",
    "    d['max_value'] = max(d.values())\n",
    "    \n",
    "    return d"
   ]
  },
  {
   "cell_type": "code",
   "execution_count": 116,
   "metadata": {},
   "outputs": [
    {
     "data": {
      "text/plain": [
       "{1: 54.5345,\n",
       " 0: 78.5555,\n",
       " 3: 78.0,\n",
       " 4: 3.1415,\n",
       " 'min_key': 0,\n",
       " 'max_value': 78.5555}"
      ]
     },
     "execution_count": 116,
     "metadata": {},
     "output_type": "execute_result"
    }
   ],
   "source": [
    "d = {1:54.5345 , 0:78.5555, 3:78., 4:3.1415}\n",
    "\n",
    "my_add_dict(d)"
   ]
  },
  {
   "cell_type": "markdown",
   "metadata": {},
   "source": [
    "### Esercizio 4\n",
    "__Scrivete una funzione `myslice(s,m,n)` che accetti la stringa `s` e i due interi `n` e `m`, con `n` > `m` come input. `myslice` deve restituire la sottostringa `s1` di `s` dal carattere di indice `m` a quello di indice `n` incluso e la stringa che si ottiene da `s1` invertendo l'ordine dei caratteri. Se per esempio `pp = \"abcdefg\"`, `h = 1` e `k = 4`,  `myslice(pp,h,k)` deve restituire `bcde, edbc`.__"
   ]
  },
  {
   "cell_type": "code",
   "execution_count": 114,
   "metadata": {},
   "outputs": [],
   "source": [
    "def myslice(s, m, n):\n",
    "    s1 = \"\"\n",
    "    s2 = \"\"\n",
    "    \n",
    "    if n <= m:\n",
    "        print(\"n è minore o uguale a m!\")\n",
    "    else:\n",
    "        s1 = s[m:n+1]\n",
    "        s2 = s1[::-1]\n",
    "        \n",
    "    return s1, s2"
   ]
  },
  {
   "cell_type": "code",
   "execution_count": 115,
   "metadata": {},
   "outputs": [
    {
     "data": {
      "text/plain": [
       "('a è una stri', 'irts anu è a')"
      ]
     },
     "execution_count": 115,
     "metadata": {},
     "output_type": "execute_result"
    }
   ],
   "source": [
    "myslice(\"Questa è una stringa di test!\", 5, 16)"
   ]
  }
 ],
 "metadata": {
  "kernelspec": {
   "display_name": "Python 3 (ipykernel)",
   "language": "python",
   "name": "python3"
  },
  "language_info": {
   "codemirror_mode": {
    "name": "ipython",
    "version": 3
   },
   "file_extension": ".py",
   "mimetype": "text/x-python",
   "name": "python",
   "nbconvert_exporter": "python",
   "pygments_lexer": "ipython3",
   "version": "3.11.5"
  }
 },
 "nbformat": 4,
 "nbformat_minor": 4
}
