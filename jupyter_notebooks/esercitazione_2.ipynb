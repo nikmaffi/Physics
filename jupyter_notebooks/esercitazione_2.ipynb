{
 "cells": [
  {
   "cell_type": "code",
   "execution_count": 87,
   "metadata": {},
   "outputs": [],
   "source": [
    "import math"
   ]
  },
  {
   "cell_type": "markdown",
   "metadata": {
    "tags": []
   },
   "source": [
    "### Esercizio 1\n",
    "__Scrivete una funzione `chop(ang, max)` che data una lista di numeri reali `ang`, che rappresentano angoli in radianti, restituisca la sottolista di quelli il cui seno è minore di `max`. Testate la funzione com `max = 1/3` e gli angoli\n",
    "[0, 1/3, 5.2, -27, 6., 17/7].__"
   ]
  },
  {
   "cell_type": "code",
   "execution_count": 88,
   "metadata": {},
   "outputs": [
    {
     "data": {
      "text/plain": [
       "[0.0,\n",
       " 0.3271946967961522,\n",
       " -0.8834546557201531,\n",
       " -0.956375928404503,\n",
       " -0.27941549819892586]"
      ]
     },
     "execution_count": 88,
     "metadata": {},
     "output_type": "execute_result"
    }
   ],
   "source": [
    "def chop(ang, max_ang):\n",
    "    return [math.sin(a) for a in ang if math.sin(a) < max_ang]\n",
    "\n",
    "chop([0, 1/3, 5.2, -27, 6., 17/7], 1/3)"
   ]
  },
  {
   "cell_type": "markdown",
   "metadata": {
    "tags": []
   },
   "source": [
    "### Esercizio 2\n",
    "__Scrivete una funzione `myturn(L0)` che accetti una lista di stringhe `L0` e per ogni stringa stampi sullo schermo  la stringa stessa e quella che si ottiene invertendo l'ordine dei caratteri. Usate le f-strings per incolonnare i risultati__<BR>\n",
    "__Per esempio `myturn( [\"Pippo\",\"paPerino\"] )` deve stampare:__\n",
    "```bash\n",
    "    Pippo          oppiP\n",
    " paPerino       onirePap\n",
    "```"
   ]
  },
  {
   "cell_type": "code",
   "execution_count": 89,
   "metadata": {},
   "outputs": [
    {
     "name": "stdout",
     "output_type": "stream",
     "text": [
      "          Pippo           oppiP\n",
      "       paPerino        onirePap\n"
     ]
    }
   ],
   "source": [
    "def myturn(L0):\n",
    "    for s in L0:\n",
    "        print(f\"{s:>15} {s[::-1]:>15}\")\n",
    "        \n",
    "myturn([\"Pippo\", \"paPerino\"])"
   ]
  },
  {
   "cell_type": "markdown",
   "metadata": {},
   "source": [
    "### Esercizio 3 \n",
    "__La posizione di un corpo in moto in un campo gravitazionale costante è:__\n",
    "$$ y(t) = -\\frac{1}{2}\\,g \\,t^2 +v_0\\,t +y_0$$\n",
    "__Dove $t$ è il tempo (secondi), $v_0$ la velocità iniziale (metri/secondo) e $y_0$ la posizione iniziale (metri). L'accelerazione gravitazionale vale $g \\,=\\, 9.81\\,\\, m/s^2$.__<BR>\n",
    "__Scrivete una funzione `max(y0,v0)` che restituisca la lista `pos` delle posizioni `y` del corpo ad ogni secondo durante la fase ascendente del moto, cioè fino al primo tempo in cui l'altezza `y` è minore di quella al secondo precedente.__<BR>\n",
    "__Mostrate sullo schermo il tempo e l'altezza del corpo usando f-strings per la formattazione.__<BR>\n",
    "__Testate la vostra funzione con (y0,v0)=(10,20) e (y0,v0)=(100,0)__\n"
   ]
  },
  {
   "cell_type": "code",
   "execution_count": 90,
   "metadata": {},
   "outputs": [
    {
     "name": "stdout",
     "output_type": "stream",
     "text": [
      "time       position\n",
      "0          10        \n",
      "1          25.096675 \n",
      "2          30.3867   \n"
     ]
    }
   ],
   "source": [
    "from scipy.constants import g    \n",
    "\n",
    "def max_h(y0, v0):\n",
    "    t = 1\n",
    "    pos = []\n",
    "\n",
    "    y_prec = y0 - 1;\n",
    "    y = y0\n",
    "    \n",
    "    while y >= y_prec:\n",
    "        pos.append(y)\n",
    "        y_prec = y\n",
    "        y = -0.5*g*(t**2) + v0*t + y0\n",
    "        t += 1\n",
    "        \n",
    "    return pos\n",
    "    \n",
    "pos = max_h(10, 20)\n",
    "\n",
    "print(f\"{'time':<10} {'position':<0}\")\n",
    "for t, y in enumerate(pos):\n",
    "    print(f\"{t:<10} {y:<10}\")"
   ]
  },
  {
   "cell_type": "code",
   "execution_count": 91,
   "metadata": {},
   "outputs": [
    {
     "name": "stdout",
     "output_type": "stream",
     "text": [
      "time       position\n",
      "0          100       \n"
     ]
    }
   ],
   "source": [
    "pos = max_h(100, 0)\n",
    "\n",
    "print(f\"{'time':<10} {'position':<0}\")\n",
    "for t, y in enumerate(pos):\n",
    "    print(f\"{t:<10} {y:<10}\")"
   ]
  },
  {
   "cell_type": "markdown",
   "metadata": {
    "tags": []
   },
   "source": [
    "### Esercizio 4\n",
    "__Scrivete una funzione `myroots(m,n)` con `m`, `n` interi `m < n`. Per ogni intero `k` compreso fra `m` e `n` (inclusi) la funzione deve scrivere `k`, la sua radice quadrata e la sua radice quarta nel file `roots.txt`, utilizzando una riga per ogni `k`.  `myroots` deve chiudere il file prima di ritornare la stringa \"fatto\".  Usate le f-strings per incolonnare i risultati e per stampare i numeri reali in notazione scientifica con tre cifre decimali.__<BR>\n",
    "__Per esempio `myroots(1,2)` deve stampare:__\n",
    "```bash\n",
    "      k         k**0.5      k**0.25\n",
    "      1        1.000e0      1.000e0\n",
    "      2        1.414e0      1.189e0\n",
    "```\n",
    "__Testate la funzione con `m = 7` e `n = 12`__"
   ]
  },
  {
   "cell_type": "code",
   "execution_count": 92,
   "metadata": {},
   "outputs": [
    {
     "name": "stdout",
     "output_type": "stream",
     "text": [
      "Fatto\n"
     ]
    }
   ],
   "source": [
    "def myroots(m, n):\n",
    "    if m >= n or type(m) is not int or type(n) is not int:\n",
    "        print(\"Condizioni di base non verificate!\")\n",
    "        return\n",
    "    \n",
    "    with open(\"roots.txt\", \"w\") as file:\n",
    "        file.write(f\"{'k':^10}  {'k**0.5':^10}  {'k**0.25':^10}\\n\")\n",
    "        for k in range(m, n + 1, 1):\n",
    "            file.write(f\"{k:^10}  {k ** 0.5:^10.3e}  {k ** 0.25:^10.3e}\\n\")\n",
    "            \n",
    "    print(\"Fatto\")\n",
    "            \n",
    "myroots(7, 12)"
   ]
  }
 ],
 "metadata": {
  "kernelspec": {
   "display_name": "Python 3 (ipykernel)",
   "language": "python",
   "name": "python3"
  },
  "language_info": {
   "codemirror_mode": {
    "name": "ipython",
    "version": 3
   },
   "file_extension": ".py",
   "mimetype": "text/x-python",
   "name": "python",
   "nbconvert_exporter": "python",
   "pygments_lexer": "ipython3",
   "version": "3.11.5"
  }
 },
 "nbformat": 4,
 "nbformat_minor": 4
}
