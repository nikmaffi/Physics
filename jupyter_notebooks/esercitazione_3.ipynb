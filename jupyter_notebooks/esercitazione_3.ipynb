{
 "cells": [
  {
   "cell_type": "code",
   "execution_count": 72,
   "metadata": {},
   "outputs": [],
   "source": [
    "import numpy as np"
   ]
  },
  {
   "cell_type": "markdown",
   "metadata": {},
   "source": [
    "### Esercizio 1\n",
    "__Scrivete un array `val` di 101 numeri reali equidistanti compresi fra -1 e 1 inclusi. Costruite una funzione, `fun(x,n1,n2)`, che restituisca l'array dei valori della funzione\n",
    "$\\,y(x) = (x^{n1} + n2)\\,e^{-x}\\,$ in tutti i punti dell'array `x`. Usate `fun` per calcolare i valori di \n",
    "$ \\,(x^3 -2) \\,e^{-x}$ nei punti contenuti in `val`.__"
   ]
  },
  {
   "cell_type": "code",
   "execution_count": 73,
   "metadata": {},
   "outputs": [
    {
     "data": {
      "text/plain": [
       "array([-8.15484549, -7.83667738, -7.53405484, -7.24624244, -6.9725351 ,\n",
       "       -6.71225689, -6.46476006, -6.22942393, -6.00565393, -5.79288063,\n",
       "       -5.59055881, -5.39816656, -5.21520438, -5.0411944 , -4.87567951,\n",
       "       -4.71822259, -4.56840579, -4.42582973, -4.29011284, -4.16089069,\n",
       "       -4.03781526, -3.92055439, -3.8087911 , -3.70222303, -3.60056184,\n",
       "       -3.5035327 , -3.4108737 , -3.3223354 , -3.23768025, -3.1566822 ,\n",
       "       -3.07912618, -3.00480766, -2.93353225, -2.86511524, -2.79938125,\n",
       "       -2.7361638 , -2.67530497, -2.61665502, -2.56007205, -2.50542169,\n",
       "       -2.45257674, -2.4014169 , -2.35182844, -2.30370395, -2.25694202,\n",
       "       -2.21144701, -2.16712878, -2.12390245, -2.08168816, -2.04041084,\n",
       "       -2.        , -1.96038951, -1.92151739, -1.88332565, -1.84576006,\n",
       "       -1.80877   , -1.77230827, -1.73633095, -1.7007972 , -1.66566913,\n",
       "       -1.63091166, -1.59649238, -1.56238138, -1.52855117, -1.49497652,\n",
       "       -1.46163435, -1.42850362, -1.39556522, -1.36280187, -1.33019798,\n",
       "       -1.29773961, -1.26541435, -1.23321124, -1.20112067, -1.16913429,\n",
       "       -1.13724499, -1.10544675, -1.07373463, -1.04210468, -1.01055384,\n",
       "       -0.97907996, -0.94768165, -0.9163583 , -0.88510998, -0.85393739,\n",
       "       -0.82284185, -0.79182521, -0.76088982, -0.73003852, -0.69927453,\n",
       "       -0.6686015 , -0.63802339, -0.60754449, -0.57716938, -0.54690288,\n",
       "       -0.51675004, -0.48671609, -0.45680644, -0.42702665, -0.39738239,\n",
       "       -0.36787944])"
      ]
     },
     "execution_count": 73,
     "metadata": {},
     "output_type": "execute_result"
    }
   ],
   "source": [
    "#Creazione dell'array [-1, 1] con punti equidistanti\n",
    "val = np.linspace(-1, 1, 101)\n",
    "\n",
    "#Definizione della funzione fun\n",
    "def fun(x, n1, n2):\n",
    "    return (x**n1 + n2)*np.exp(-x)\n",
    "\n",
    "#Test della funzione (stampa dei risultati)\n",
    "fun(val, 3, -2)"
   ]
  },
  {
   "cell_type": "markdown",
   "metadata": {},
   "source": [
    "### Esercizio 2\n",
    "__Costruite l'array `a1` degli interi fra 0 e 100 incluso. Estraete da `a1` l'array `a2` dei valori `k` per cui 0.2 < sin(k) < 0.75. Costruite l'array `a3` delle radici quadrate dei valori in `a2`.__ "
   ]
  },
  {
   "cell_type": "code",
   "execution_count": 74,
   "metadata": {},
   "outputs": [
    {
     "data": {
      "text/plain": [
       "array([  0,   1,   2,   3,   4,   5,   6,   7,   8,   9,  10,  11,  12,\n",
       "        13,  14,  15,  16,  17,  18,  19,  20,  21,  22,  23,  24,  25,\n",
       "        26,  27,  28,  29,  30,  31,  32,  33,  34,  35,  36,  37,  38,\n",
       "        39,  40,  41,  42,  43,  44,  45,  46,  47,  48,  49,  50,  51,\n",
       "        52,  53,  54,  55,  56,  57,  58,  59,  60,  61,  62,  63,  64,\n",
       "        65,  66,  67,  68,  69,  70,  71,  72,  73,  74,  75,  76,  77,\n",
       "        78,  79,  80,  81,  82,  83,  84,  85,  86,  87,  88,  89,  90,\n",
       "        91,  92,  93,  94,  95,  96,  97,  98,  99, 100])"
      ]
     },
     "execution_count": 74,
     "metadata": {},
     "output_type": "execute_result"
    }
   ],
   "source": [
    "#Creazione dell'array 1\n",
    "a1 = np.arange(0, 101)\n",
    "a1"
   ]
  },
  {
   "cell_type": "code",
   "execution_count": 75,
   "metadata": {},
   "outputs": [
    {
     "data": {
      "text/plain": [
       "array([ 7,  9, 13, 15, 28, 32, 34, 38, 40, 51, 53, 57, 59, 72, 76, 78, 82,\n",
       "       84, 95, 97])"
      ]
     },
     "execution_count": 75,
     "metadata": {},
     "output_type": "execute_result"
    }
   ],
   "source": [
    "#Creazione dell'array 2\n",
    "a2 = a1[np.logical_and(np.sin(a1) > 0.2, np.sin(a1) < 0.75)]\n",
    "a2"
   ]
  },
  {
   "cell_type": "code",
   "execution_count": 76,
   "metadata": {},
   "outputs": [
    {
     "data": {
      "text/plain": [
       "array([2.64575131, 3.        , 3.60555128, 3.87298335, 5.29150262,\n",
       "       5.65685425, 5.83095189, 6.164414  , 6.32455532, 7.14142843,\n",
       "       7.28010989, 7.54983444, 7.68114575, 8.48528137, 8.71779789,\n",
       "       8.83176087, 9.05538514, 9.16515139, 9.74679434, 9.8488578 ])"
      ]
     },
     "execution_count": 76,
     "metadata": {},
     "output_type": "execute_result"
    }
   ],
   "source": [
    "#Creazione dell'array 3\n",
    "a3 = np.sqrt(a2)\n",
    "a3"
   ]
  },
  {
   "cell_type": "markdown",
   "metadata": {},
   "source": [
    "### Esercizio 3\n",
    "__Una tazza di corn flakes, un bicchiere di latte e un uovo forniscono 16 grammi di proteine. Un bicchiere di latte e due uova forniscono 21 grammi di proteine. Due tazze di corn flakes e due bicchieri di latte forniscono 16 grammi di proteine.\n",
    "Quante proteine ciascuno contengono una tazza di corn flakes, un bicchiere di latte e un uovo?__"
   ]
  },
  {
   "cell_type": "code",
   "execution_count": 77,
   "metadata": {},
   "outputs": [
    {
     "name": "stdout",
     "output_type": "stream",
     "text": [
      "           Tazza di corn flakes    Bicchiere di latte            Uovo         \n",
      "Proteine:          3.0                    5.0                    8.0           "
     ]
    }
   ],
   "source": [
    "#Risoluzione del sistema lineare:\n",
    "\n",
    "#x = corn flakes; y = latte; z = uovo; \n",
    "\n",
    "#{ x + y + z = 16\n",
    "#{ y + 2z = 21\n",
    "#{ 2x + 2y = 16\n",
    "\n",
    "#Matrice dei coefficienti\n",
    "A = np.array([\n",
    "        [1, 1, 1],\n",
    "        [0, 1, 2],\n",
    "        [2, 2, 0]\n",
    "])\n",
    "\n",
    "#Vettore dei termini noti\n",
    "B = np.array([16, 21, 16])\n",
    "\n",
    "#Vettore delle incognite (trovato tramte risoluzione del sistema lineare)\n",
    "#np.linalg.solve callcola la matrice inversa e fa il prodotto tra Ainv e B\n",
    "X = np.linalg.solve(A, B)\n",
    "\n",
    "#Valori delle proteine\n",
    "print(f\"{' '*10}{'Tazza di corn flakes':^22} {'Bicchiere di latte':^22} {'Uovo':^22}\")\n",
    "print(\"Proteine: \", end=\"\")\n",
    "for inc in X:\n",
    "    print(f\"{inc:^22} \", end=\"\")"
   ]
  },
  {
   "cell_type": "code",
   "execution_count": 78,
   "metadata": {},
   "outputs": [
    {
     "data": {
      "text/plain": [
       "[(16, 16.0), (21, 21.0), (16, 16.0)]"
      ]
     },
     "execution_count": 78,
     "metadata": {},
     "output_type": "execute_result"
    }
   ],
   "source": [
    "#Verifica delle soluzioni\n",
    "#[(a, b)] --> a = termine noto originale; b = verifica del termine noto\n",
    "list(zip(B, np.dot(A, X)))"
   ]
  },
  {
   "cell_type": "markdown",
   "metadata": {},
   "source": [
    "### Esercizio 4\n",
    "__Scrivete una funzione `ff(x,reverse=False)` che dato un array `x` restituica l'array `x2` dell'esponenziale dei valori in `x`.  Se `reverse=False` `ff` deve restituire `x2` con i valori in ordine crescente, se `reverse=True` `ff` deve restituire `x2` con i valori in ordine decrescente .__<BR>\n",
    "__Testate `ff` su `np.array([-2,1,-0.1,4.2,0,1.2,-0.5,0.4,-1.3])`.__"
   ]
  },
  {
   "cell_type": "code",
   "execution_count": 79,
   "metadata": {},
   "outputs": [
    {
     "data": {
      "text/plain": [
       "array([ 0.13533528,  0.27253179,  0.60653066,  0.90483742,  1.        ,\n",
       "        1.4918247 ,  2.71828183,  3.32011692, 66.68633104])"
      ]
     },
     "execution_count": 79,
     "metadata": {},
     "output_type": "execute_result"
    }
   ],
   "source": [
    "#definizione della funzione ff\n",
    "def ff(x, reverse=False):\n",
    "    x2 = np.exp(x)\n",
    "    \n",
    "    #L'array va ordinato in ogni caso (per evitare di mettere in ordine decrescente elementi che non erano in ordine crescente)\n",
    "    x2 = np.sort(x2)\n",
    "    \n",
    "    if reverse == True:\n",
    "        x2 = np.flip(x2, axis=0)\n",
    "        \n",
    "    return x2\n",
    "\n",
    "test_array = np.array([-2,1,-0.1,4.2,0,1.2,-0.5,0.4,-1.3])\n",
    "\n",
    "ff(test_array)"
   ]
  },
  {
   "cell_type": "code",
   "execution_count": 80,
   "metadata": {},
   "outputs": [
    {
     "data": {
      "text/plain": [
       "array([66.68633104,  3.32011692,  2.71828183,  1.4918247 ,  1.        ,\n",
       "        0.90483742,  0.60653066,  0.27253179,  0.13533528])"
      ]
     },
     "execution_count": 80,
     "metadata": {},
     "output_type": "execute_result"
    }
   ],
   "source": [
    "ff(test_array, reverse=True)"
   ]
  }
 ],
 "metadata": {
  "kernelspec": {
   "display_name": "Python 3 (ipykernel)",
   "language": "python",
   "name": "python3"
  },
  "language_info": {
   "codemirror_mode": {
    "name": "ipython",
    "version": 3
   },
   "file_extension": ".py",
   "mimetype": "text/x-python",
   "name": "python",
   "nbconvert_exporter": "python",
   "pygments_lexer": "ipython3",
   "version": "3.11.5"
  }
 },
 "nbformat": 4,
 "nbformat_minor": 4
}
