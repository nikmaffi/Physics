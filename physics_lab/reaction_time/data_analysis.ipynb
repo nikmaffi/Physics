{
 "cells": [
  {
   "cell_type": "markdown",
   "metadata": {},
   "source": [
    "# Analisi di 100 misure del periodo di un pendolo - Prima parte"
   ]
  },
  {
   "cell_type": "code",
   "execution_count": 362,
   "metadata": {},
   "outputs": [],
   "source": [
    "import numpy as np\n",
    "import matplotlib.pyplot as plt\n",
    "import pandas as pd\n",
    "from scipy import stats"
   ]
  },
  {
   "cell_type": "code",
   "execution_count": 363,
   "metadata": {},
   "outputs": [],
   "source": [
    "plt.style.use(\"seaborn-v0_8-whitegrid\")\n",
    "plt.rc(\"font\", size=16, family=\"STIXGeneral\")"
   ]
  },
  {
   "cell_type": "markdown",
   "metadata": {},
   "source": [
    "## Lettura dei dati raccolti"
   ]
  },
  {
   "cell_type": "code",
   "execution_count": 364,
   "metadata": {
    "scrolled": true
   },
   "outputs": [
    {
     "data": {
      "text/plain": [
       "array([204., 193., 206., 209., 182., 208., 208., 202., 206., 201., 195.,\n",
       "       203., 200., 193., 210., 197., 195., 201., 197., 200., 205., 192.,\n",
       "       215., 207., 186., 187., 191., 207., 193., 205., 201., 208., 203.,\n",
       "       201., 196., 200., 196., 212., 211., 204., 180., 206., 200., 194.,\n",
       "       199., 197., 217., 204., 202., 190.])"
      ]
     },
     "execution_count": 364,
     "metadata": {},
     "output_type": "execute_result"
    }
   ],
   "source": [
    "indici, dati = np.loadtxt(\"./data/TempiReazione.txt\", skiprows=10 , unpack=True)\n",
    "dati"
   ]
  },
  {
   "cell_type": "code",
   "execution_count": 365,
   "metadata": {},
   "outputs": [
    {
     "data": {
      "text/plain": [
       "50"
      ]
     },
     "execution_count": 365,
     "metadata": {},
     "output_type": "execute_result"
    }
   ],
   "source": [
    "dati.size"
   ]
  },
  {
   "cell_type": "markdown",
   "metadata": {},
   "source": [
    "## Calcolo dei principali indici statistici"
   ]
  },
  {
   "cell_type": "markdown",
   "metadata": {},
   "source": [
    "### Calcolo dei valori di media, mediana e moda"
   ]
  },
  {
   "cell_type": "code",
   "execution_count": 366,
   "metadata": {},
   "outputs": [
    {
     "data": {
      "text/plain": [
       "array([180., 182., 186., 187., 190., 191., 192., 193., 193., 193., 194.,\n",
       "       195., 195., 196., 196., 197., 197., 197., 199., 200., 200., 200.,\n",
       "       200., 201., 201., 201., 201., 202., 202., 203., 203., 204., 204.,\n",
       "       204., 205., 205., 206., 206., 206., 207., 207., 208., 208., 208.,\n",
       "       209., 210., 211., 212., 215., 217.])"
      ]
     },
     "execution_count": 366,
     "metadata": {},
     "output_type": "execute_result"
    }
   ],
   "source": [
    "dati_ordinati= np.sort(dati)\n",
    "dati_ordinati"
   ]
  },
  {
   "cell_type": "code",
   "execution_count": 367,
   "metadata": {},
   "outputs": [
    {
     "name": "stdout",
     "output_type": "stream",
     "text": [
      "Media: 200.38 ms\n"
     ]
    }
   ],
   "source": [
    "media = dati.mean()\n",
    "print(\"Media: %.2f ms\" % media)"
   ]
  },
  {
   "cell_type": "code",
   "execution_count": 368,
   "metadata": {},
   "outputs": [
    {
     "name": "stdout",
     "output_type": "stream",
     "text": [
      "Mediana: 201.00 ms\n"
     ]
    }
   ],
   "source": [
    "mediana = np.median(dati_ordinati)\n",
    "print(\"Mediana: %.2f ms\" % mediana)"
   ]
  },
  {
   "cell_type": "code",
   "execution_count": 369,
   "metadata": {},
   "outputs": [
    {
     "name": "stdout",
     "output_type": "stream",
     "text": [
      "Moda: 200.00 ms\n"
     ]
    }
   ],
   "source": [
    "moda = stats.mode(dati_ordinati)\n",
    "print(\"Moda: %.2f ms\" % moda[0])"
   ]
  },
  {
   "cell_type": "markdown",
   "metadata": {},
   "source": [
    "### Calcolo degli scarti"
   ]
  },
  {
   "cell_type": "code",
   "execution_count": 370,
   "metadata": {},
   "outputs": [
    {
     "name": "stdout",
     "output_type": "stream",
     "text": [
      "Scarti: [  3.62  -7.38   5.62   8.62 -18.38   7.62   7.62   1.62   5.62   0.62\n",
      "  -5.38   2.62  -0.38  -7.38   9.62  -3.38  -5.38   0.62  -3.38  -0.38\n",
      "   4.62  -8.38  14.62   6.62 -14.38 -13.38  -9.38   6.62  -7.38   4.62\n",
      "   0.62   7.62   2.62   0.62  -4.38  -0.38  -4.38  11.62  10.62   3.62\n",
      " -20.38   5.62  -0.38  -6.38  -1.38  -3.38  16.62   3.62   1.62 -10.38]\n"
     ]
    }
   ],
   "source": [
    "scarti = dati - media\n",
    "print(\"Scarti:\", scarti)"
   ]
  },
  {
   "cell_type": "code",
   "execution_count": 371,
   "metadata": {},
   "outputs": [
    {
     "data": {
      "text/plain": [
       "<matplotlib.legend.Legend at 0x20c9f666350>"
      ]
     },
     "execution_count": 371,
     "metadata": {},
     "output_type": "execute_result"
    },
    {
     "data": {
      "image/png": "[encoded data removed]",
      "text/plain": [
       "<Figure size 800x600 with 1 Axes>"
      ]
     },
     "metadata": {},
     "output_type": "display_data"
    }
   ],
   "source": [
    "x = np.linspace(1, 100, 50)\n",
    "y = scarti\n",
    "\n",
    "fig, ax = plt.subplots(figsize=(8,6))\n",
    "\n",
    "ax.set_ylim(-50, 50)\n",
    "ax.set_xlabel('Misura')\n",
    "ax.set_ylabel('Scarti dalla media [ms]')\n",
    "\n",
    "ax.plot([1, 100], [0, 0], color='C1', linestyle='--')\n",
    "ax.scatter(x, scarti, color=\"C9\", label=\"Valori misurati\")\n",
    "\n",
    "ax.legend()"
   ]
  },
  {
   "cell_type": "markdown",
   "metadata": {},
   "source": [
    "### Calcolo dei valori di varianza, deviazione standard e deviazione standard della media"
   ]
  },
  {
   "cell_type": "code",
   "execution_count": 372,
   "metadata": {},
   "outputs": [
    {
     "name": "stdout",
     "output_type": "stream",
     "text": [
      "Varianza empirica: 63.3833 ms^2\n"
     ]
    }
   ],
   "source": [
    "varianza_emp = dati.var(ddof=1)\n",
    "print(\"Varianza empirica: %.4f ms^2\" % varianza_emp)"
   ]
  },
  {
   "cell_type": "code",
   "execution_count": 373,
   "metadata": {},
   "outputs": [
    {
     "name": "stdout",
     "output_type": "stream",
     "text": [
      "Varianza popolazione: 62.1156 ms^2\n"
     ]
    }
   ],
   "source": [
    "varianza_pop = dati.var()\n",
    "print(\"Varianza popolazione: %.4f ms^2\" % varianza_pop)"
   ]
  },
  {
   "cell_type": "code",
   "execution_count": 374,
   "metadata": {},
   "outputs": [
    {
     "name": "stdout",
     "output_type": "stream",
     "text": [
      "Differenza percentuale: 2.0408%\n"
     ]
    }
   ],
   "source": [
    "print(\"Differenza percentuale: %.4f%%\" % ((varianza_emp - varianza_pop) / varianza_pop * 100))"
   ]
  },
  {
   "cell_type": "code",
   "execution_count": 375,
   "metadata": {},
   "outputs": [
    {
     "name": "stdout",
     "output_type": "stream",
     "text": [
      "Deviazione standard empirica: 7.9614 ms\n"
     ]
    }
   ],
   "source": [
    "devstd_emp = np.sqrt(varianza_emp)\n",
    "print(\"Deviazione standard empirica: %.4f ms\" % devstd_emp)"
   ]
  },
  {
   "cell_type": "code",
   "execution_count": 376,
   "metadata": {},
   "outputs": [
    {
     "name": "stdout",
     "output_type": "stream",
     "text": [
      "Deviazione standard popolazione: 7.8813 ms\n"
     ]
    }
   ],
   "source": [
    "devstd_pop = dati.std()\n",
    "print(\"Deviazione standard popolazione: %.4f ms\" % devstd_pop)"
   ]
  },
  {
   "cell_type": "code",
   "execution_count": 377,
   "metadata": {},
   "outputs": [
    {
     "name": "stdout",
     "output_type": "stream",
     "text": [
      "Differenza percentuale: 1.0153%\n"
     ]
    }
   ],
   "source": [
    "print(\"Differenza percentuale: %.4f%%\" % ((devstd_emp - devstd_pop) / devstd_pop * 100))"
   ]
  },
  {
   "cell_type": "code",
   "execution_count": 378,
   "metadata": {},
   "outputs": [
    {
     "name": "stdout",
     "output_type": "stream",
     "text": [
      "Deviazione standard della media: 1.1259 ms\n"
     ]
    }
   ],
   "source": [
    "devstd_media = devstd_emp / np.sqrt(dati.size)\n",
    "print(\"Deviazione standard della media: %.4f ms\" % devstd_media)"
   ]
  },
  {
   "cell_type": "markdown",
   "metadata": {},
   "source": [
    "## 3. Processo di scarto tramite criterio del $3 \\sigma$"
   ]
  },
  {
   "cell_type": "code",
   "execution_count": 379,
   "metadata": {},
   "outputs": [
    {
     "data": {
      "text/plain": [
       "array([204., 193., 206., 209., 182., 208., 208., 202., 206., 201., 195.,\n",
       "       203., 200., 193., 210., 197., 195., 201., 197., 200., 205., 192.,\n",
       "       215., 207., 186., 187., 191., 207., 193., 205., 201., 208., 203.,\n",
       "       201., 196., 200., 196., 212., 211., 204., 180., 206., 200., 194.,\n",
       "       199., 197., 217., 204., 202., 190.])"
      ]
     },
     "execution_count": 379,
     "metadata": {},
     "output_type": "execute_result"
    }
   ],
   "source": [
    "dati_acc = np.array([d for d in dati if np.absolute(d - media) < 3 * devstd_emp])\n",
    "dati_acc"
   ]
  },
  {
   "cell_type": "code",
   "execution_count": 380,
   "metadata": {},
   "outputs": [
    {
     "name": "stdout",
     "output_type": "stream",
     "text": [
      "Dati accettati: 50\n"
     ]
    }
   ],
   "source": [
    "print(\"Dati accettati: %d\" % dati_acc.size)"
   ]
  },
  {
   "cell_type": "code",
   "execution_count": 381,
   "metadata": {},
   "outputs": [
    {
     "name": "stdout",
     "output_type": "stream",
     "text": [
      "Dati scartati: 0\n"
     ]
    }
   ],
   "source": [
    "print(\"Dati scartati: %d\" % (dati.size - dati_acc.size))"
   ]
  },
  {
   "cell_type": "markdown",
   "metadata": {},
   "source": [
    "### 3.1. Percentuale di dati nell'intervallo $\\bar{x} \\pm \\sigma$"
   ]
  },
  {
   "cell_type": "code",
   "execution_count": 382,
   "metadata": {},
   "outputs": [
    {
     "name": "stdout",
     "output_type": "stream",
     "text": [
      "Dati entro una deviazione standard: 37%\n"
     ]
    }
   ],
   "source": [
    "dati_1_sigma = np.array([d for d in dati if np.absolute(d - media) < devstd_emp])\n",
    "print(\"Dati entro una deviazione standard: %d%%\" % dati_1_sigma.size)"
   ]
  },
  {
   "cell_type": "code",
   "execution_count": 383,
   "metadata": {},
   "outputs": [
    {
     "data": {
      "text/plain": [
       "<matplotlib.legend.Legend at 0x20c9fa5e350>"
      ]
     },
     "execution_count": 383,
     "metadata": {},
     "output_type": "execute_result"
    },
    {
     "data": {
      "image/png": "[encoded data removed]",
      "text/plain": [
       "<Figure size 800x600 with 1 Axes>"
      ]
     },
     "metadata": {},
     "output_type": "display_data"
    }
   ],
   "source": [
    "x = np.linspace(1, 100, 50)\n",
    "y = scarti\n",
    "\n",
    "fig, ax = plt.subplots(figsize=(8,6))\n",
    "\n",
    "ax.set_ylim(100, 300)\n",
    "ax.set_xlabel('Misura')\n",
    "ax.set_ylabel('Tempi misurati [s]')\n",
    "\n",
    "ax.plot([1, 100], [media + 3 * devstd_emp, media + 3 * devstd_emp], color=\"C4\", linestyle=\":\", label=r\"$\\bar{x} \\pm 3\\sigma$\")\n",
    "ax.plot([1, 100], [media - 3 * devstd_emp, media - 3 * devstd_emp], color=\"C4\", linestyle=\":\")\n",
    "ax.plot([1, 100], [media, media], color=\"C1\", linestyle=\"--\", label=r\"$\\bar{x}$\")\n",
    "ax.scatter(x, dati, color=\"C9\", label=\"Valori misurati\")\n",
    "\n",
    "ax.legend()"
   ]
  },
  {
   "cell_type": "markdown",
   "metadata": {},
   "source": [
    "## Valore della misura finale"
   ]
  },
  {
   "cell_type": "code",
   "execution_count": 384,
   "metadata": {},
   "outputs": [
    {
     "name": "stdout",
     "output_type": "stream",
     "text": [
      "Incertezza: 1.13 ms\n"
     ]
    }
   ],
   "source": [
    "print(\"Incertezza: %.2f ms\" % devstd_media)"
   ]
  },
  {
   "cell_type": "code",
   "execution_count": 385,
   "metadata": {},
   "outputs": [
    {
     "name": "stdout",
     "output_type": "stream",
     "text": [
      "Miglior stima: 200.38 ms\n"
     ]
    }
   ],
   "source": [
    "print(\"Miglior stima: %.2f ms\" % media)"
   ]
  },
  {
   "cell_type": "markdown",
   "metadata": {},
   "source": [
    "**T = 200.4 $\\pm$ 1.1 ms**"
   ]
  },
  {
   "cell_type": "markdown",
   "metadata": {},
   "source": [
    "## Istogrammi"
   ]
  },
  {
   "cell_type": "markdown",
   "metadata": {},
   "source": [
    "### Larghezza delle classi pari all'incertezza di sensibilità"
   ]
  },
  {
   "cell_type": "code",
   "execution_count": 386,
   "metadata": {},
   "outputs": [
    {
     "name": "stdout",
     "output_type": "stream",
     "text": [
      "Valore minimo: 180.00 ms\n"
     ]
    }
   ],
   "source": [
    "print(\"Valore minimo: %.2f ms\" % dati.min())"
   ]
  },
  {
   "cell_type": "code",
   "execution_count": 387,
   "metadata": {},
   "outputs": [
    {
     "name": "stdout",
     "output_type": "stream",
     "text": [
      "Valore massimo: 217.00 ms\n"
     ]
    }
   ],
   "source": [
    "print(\"Valore massimo: %.2f ms\" % dati.max())"
   ]
  },
  {
   "cell_type": "code",
   "execution_count": 388,
   "metadata": {},
   "outputs": [
    {
     "name": "stdout",
     "output_type": "stream",
     "text": [
      "Numero di classi 33\n"
     ]
    }
   ],
   "source": [
    "n_classi = int((dati.max() - dati.min()) / 1.1)\n",
    "print(\"Numero di classi %d\" % n_classi)"
   ]
  },
  {
   "cell_type": "code",
   "execution_count": 389,
   "metadata": {},
   "outputs": [
    {
     "name": "stdout",
     "output_type": "stream",
     "text": [
      "Larghezza di ciascuna classe: 1.12 ms\n"
     ]
    }
   ],
   "source": [
    "larghezza = (dati.max() - dati.min()) / n_classi\n",
    "print(\"Larghezza di ciascuna classe: %.2f ms\" % larghezza)"
   ]
  },
  {
   "cell_type": "code",
   "execution_count": 390,
   "metadata": {},
   "outputs": [
    {
     "name": "stdout",
     "output_type": "stream",
     "text": [
      "Intervallo (179.450, 217.550)\n"
     ]
    }
   ],
   "source": [
    "intervallo = (dati.min() - 1.1 / 2, dati.max() + 1.1 / 2)\n",
    "print(\"Intervallo (%.3f, %.3f)\" % intervallo)"
   ]
  },
  {
   "cell_type": "code",
   "execution_count": 391,
   "metadata": {},
   "outputs": [
    {
     "data": {
      "image/png": "[encoded data removed]",
      "text/plain": [
       "<Figure size 800x600 with 1 Axes>"
      ]
     },
     "metadata": {},
     "output_type": "display_data"
    }
   ],
   "source": [
    "fig, ax = plt.subplots(figsize=(8, 6))\n",
    "\n",
    "ax.set_xlabel(\"Tempi misurati [ms]\")\n",
    "ax.set_ylabel(\"Frequenze assolute\")\n",
    "\n",
    "frequenze, classi, _ = ax.hist(dati, n_classi, range=intervallo, color=\"C9\")"
   ]
  },
  {
   "cell_type": "code",
   "execution_count": 392,
   "metadata": {},
   "outputs": [
    {
     "name": "stdout",
     "output_type": "stream",
     "text": [
      "Numero totale di eventi: 50\n"
     ]
    }
   ],
   "source": [
    "print(\"Numero totale di eventi: %d\" % np.sum(frequenze))"
   ]
  },
  {
   "cell_type": "code",
   "execution_count": 393,
   "metadata": {},
   "outputs": [
    {
     "name": "stdout",
     "output_type": "stream",
     "text": [
      "Frequenze assolute: [1. 0. 1. 0. 0. 1. 1. 0. 0. 1. 2. 3. 1. 2. 2. 3. 1. 4. 4. 2. 2. 3. 5. 2.\n",
      " 3. 1. 1. 1. 1. 0. 1. 0. 1.]\n"
     ]
    }
   ],
   "source": [
    "print(\"Frequenze assolute:\", frequenze)"
   ]
  },
  {
   "cell_type": "code",
   "execution_count": 394,
   "metadata": {},
   "outputs": [
    {
     "name": "stdout",
     "output_type": "stream",
     "text": [
      "Classi: [179.45  180.605 181.759 182.914 184.068 185.223 186.377 187.532 188.686\n",
      " 189.841 190.995 192.15  193.305 194.459 195.614 196.768 197.923 199.077\n",
      " 200.232 201.386 202.541 203.695 204.85  206.005 207.159 208.314 209.468\n",
      " 210.623 211.777 212.932 214.086 215.241 216.395 217.55 ]\n"
     ]
    }
   ],
   "source": [
    "classi = np.round(classi, decimals=3)\n",
    "print(\"Classi:\", classi)"
   ]
  },
  {
   "cell_type": "markdown",
   "metadata": {},
   "source": [
    "### Restrizioni del numeri di classi pari a quattordici"
   ]
  },
  {
   "cell_type": "code",
   "execution_count": 395,
   "metadata": {},
   "outputs": [
    {
     "name": "stdout",
     "output_type": "stream",
     "text": [
      "Numero di classi 14\n"
     ]
    }
   ],
   "source": [
    "n_classi = int((dati.max() - dati.min()) / 2.5)\n",
    "print(\"Numero di classi %d\" % n_classi)"
   ]
  },
  {
   "cell_type": "code",
   "execution_count": 396,
   "metadata": {},
   "outputs": [
    {
     "name": "stdout",
     "output_type": "stream",
     "text": [
      "Larghezza di ciascuna classe: 2.64 ms\n"
     ]
    }
   ],
   "source": [
    "larghezza = (dati.max() - dati.min()) / n_classi\n",
    "print(\"Larghezza di ciascuna classe: %.2f ms\" % larghezza)"
   ]
  },
  {
   "cell_type": "code",
   "execution_count": 397,
   "metadata": {},
   "outputs": [
    {
     "name": "stdout",
     "output_type": "stream",
     "text": [
      "Intervallo (178.750, 218.250)\n"
     ]
    }
   ],
   "source": [
    "intervallo = (dati.min() - 2.5 / 2, dati.max() + 2.5 / 2)\n",
    "print(\"Intervallo (%.3f, %.3f)\" % intervallo)"
   ]
  },
  {
   "cell_type": "code",
   "execution_count": 398,
   "metadata": {},
   "outputs": [
    {
     "data": {
      "image/png": "[encoded data removed]",
      "text/plain": [
       "<Figure size 800x600 with 1 Axes>"
      ]
     },
     "metadata": {},
     "output_type": "display_data"
    }
   ],
   "source": [
    "fig, ax = plt.subplots(figsize=(8, 6))\n",
    "\n",
    "ax.set_xlabel(\"Tempi misurati [ms]\")\n",
    "ax.set_ylabel(\"Frequenze assolute\")\n",
    "\n",
    "frequenze, classi, _ = ax.hist(dati, n_classi, range=intervallo, color=\"C9\")"
   ]
  },
  {
   "cell_type": "code",
   "execution_count": 399,
   "metadata": {},
   "outputs": [
    {
     "name": "stdout",
     "output_type": "stream",
     "text": [
      "Numero totale delle frequenze: 50\n"
     ]
    }
   ],
   "source": [
    "print(\"Numero totale delle frequenze: %d\" % np.sum(frequenze))"
   ]
  },
  {
   "cell_type": "code",
   "execution_count": 400,
   "metadata": {},
   "outputs": [
    {
     "name": "stdout",
     "output_type": "stream",
     "text": [
      "Frequenze assolute: [1. 1. 2. 1. 2. 6. 5. 9. 7. 5. 6. 3. 1. 1.]\n"
     ]
    }
   ],
   "source": [
    "print(\"Frequenze assolute:\", frequenze)"
   ]
  },
  {
   "cell_type": "code",
   "execution_count": 401,
   "metadata": {},
   "outputs": [
    {
     "name": "stdout",
     "output_type": "stream",
     "text": [
      "Classi: [178.75  181.571 184.393 187.214 190.036 192.857 195.679 198.5   201.321\n",
      " 204.143 206.964 209.786 212.607 215.429 218.25 ]\n"
     ]
    }
   ],
   "source": [
    "classi = np.round(classi, decimals=3)\n",
    "print(\"Classi:\", classi)"
   ]
  },
  {
   "cell_type": "markdown",
   "metadata": {},
   "source": [
    "### Calcolo dei punti centrali delle classi"
   ]
  },
  {
   "cell_type": "code",
   "execution_count": 402,
   "metadata": {},
   "outputs": [
    {
     "name": "stdout",
     "output_type": "stream",
     "text": [
      "Punti centrali delle classi: [180.071 182.892 185.714 188.535 191.357 194.178 197.    199.821 202.642\n",
      " 205.464 208.285 211.107 213.928 216.75 ]\n"
     ]
    }
   ],
   "source": [
    "centri = np.round(classi[:-1] + larghezza / 2, decimals=3)\n",
    "print(\"Punti centrali delle classi:\", centri)"
   ]
  },
  {
   "cell_type": "markdown",
   "metadata": {},
   "source": [
    "## Tabella riassuntiva dell'istogramma"
   ]
  },
  {
   "cell_type": "markdown",
   "metadata": {},
   "source": [
    "### Calcolo degli indici statistici con le formule di aggregazione"
   ]
  },
  {
   "cell_type": "code",
   "execution_count": 403,
   "metadata": {},
   "outputs": [
    {
     "name": "stdout",
     "output_type": "stream",
     "text": [
      "Media 200.27 ms\n"
     ]
    }
   ],
   "source": [
    "media_aggr = np.sum(centri * frequenze) / np.sum(frequenze)\n",
    "print(\"Media %.2f ms\" % media_aggr)"
   ]
  },
  {
   "cell_type": "code",
   "execution_count": 404,
   "metadata": {},
   "outputs": [
    {
     "name": "stdout",
     "output_type": "stream",
     "text": [
      "Varianza 62.8258 ms^2\n"
     ]
    }
   ],
   "source": [
    "varianza_aggr = np.sum(frequenze * (centri - media_aggr)**2) / (np.sum(frequenze) - 1)\n",
    "print(\"Varianza %.4f ms^2\" % varianza_aggr)"
   ]
  },
  {
   "cell_type": "code",
   "execution_count": 405,
   "metadata": {},
   "outputs": [
    {
     "name": "stdout",
     "output_type": "stream",
     "text": [
      "Deviazione standard: 7.9263 ms^2\n"
     ]
    }
   ],
   "source": [
    "devstd_aggr = np.sqrt(varianza_aggr)\n",
    "print(\"Deviazione standard: %.4f ms^2\" % devstd_aggr)"
   ]
  },
  {
   "cell_type": "code",
   "execution_count": 406,
   "metadata": {},
   "outputs": [
    {
     "name": "stdout",
     "output_type": "stream",
     "text": [
      "Deviazione standard della media: 1.1209 ms^2\n"
     ]
    }
   ],
   "source": [
    "devstd_media_aggr = devstd_aggr / np.sqrt(frequenze.sum())\n",
    "print(\"Deviazione standard della media: %.4f ms^2\" % devstd_media_aggr)"
   ]
  },
  {
   "cell_type": "markdown",
   "metadata": {},
   "source": [
    "### Calcolo delle frequenze relative"
   ]
  },
  {
   "cell_type": "code",
   "execution_count": 407,
   "metadata": {},
   "outputs": [
    {
     "name": "stdout",
     "output_type": "stream",
     "text": [
      "Numero totale delle frequenze relative: 1.0\n"
     ]
    }
   ],
   "source": [
    "frequenze_rel = frequenze / np.sum(frequenze)\n",
    "print(\"Numero totale delle frequenze relative: %.1f\" % np.sum(frequenze_rel))"
   ]
  },
  {
   "cell_type": "markdown",
   "metadata": {},
   "source": [
    "### Calcolo della densità di frequenza"
   ]
  },
  {
   "cell_type": "code",
   "execution_count": 408,
   "metadata": {},
   "outputs": [],
   "source": [
    "densita = np.round(frequenze_rel / larghezza, decimals=3)"
   ]
  },
  {
   "cell_type": "markdown",
   "metadata": {},
   "source": [
    "### Tabella riassuntiva"
   ]
  },
  {
   "cell_type": "code",
   "execution_count": 409,
   "metadata": {},
   "outputs": [
    {
     "data": {
      "text/html": [
       "<div>\n",
       "<style scoped>\n",
       "    .dataframe tbody tr th:only-of-type {\n",
       "        vertical-align: middle;\n",
       "    }\n",
       "\n",
       "    .dataframe tbody tr th {\n",
       "        vertical-align: top;\n",
       "    }\n",
       "\n",
       "    .dataframe thead th {\n",
       "        text-align: right;\n",
       "    }\n",
       "</style>\n",
       "<table border=\"1\" class=\"dataframe\">\n",
       "  <thead>\n",
       "    <tr style=\"text-align: right;\">\n",
       "      <th></th>\n",
       "      <th>Minimo</th>\n",
       "      <th>Massimo</th>\n",
       "      <th>Centro</th>\n",
       "      <th>Frequenze assolute</th>\n",
       "      <th>Frequenze relative</th>\n",
       "      <th>Densità</th>\n",
       "    </tr>\n",
       "  </thead>\n",
       "  <tbody>\n",
       "    <tr>\n",
       "      <th>0</th>\n",
       "      <td>178.750</td>\n",
       "      <td>181.571</td>\n",
       "      <td>180.071</td>\n",
       "      <td>1.0</td>\n",
       "      <td>0.02</td>\n",
       "      <td>0.008</td>\n",
       "    </tr>\n",
       "    <tr>\n",
       "      <th>1</th>\n",
       "      <td>181.571</td>\n",
       "      <td>184.393</td>\n",
       "      <td>182.892</td>\n",
       "      <td>1.0</td>\n",
       "      <td>0.02</td>\n",
       "      <td>0.008</td>\n",
       "    </tr>\n",
       "    <tr>\n",
       "      <th>2</th>\n",
       "      <td>184.393</td>\n",
       "      <td>187.214</td>\n",
       "      <td>185.714</td>\n",
       "      <td>2.0</td>\n",
       "      <td>0.04</td>\n",
       "      <td>0.015</td>\n",
       "    </tr>\n",
       "    <tr>\n",
       "      <th>3</th>\n",
       "      <td>187.214</td>\n",
       "      <td>190.036</td>\n",
       "      <td>188.535</td>\n",
       "      <td>1.0</td>\n",
       "      <td>0.02</td>\n",
       "      <td>0.008</td>\n",
       "    </tr>\n",
       "    <tr>\n",
       "      <th>4</th>\n",
       "      <td>190.036</td>\n",
       "      <td>192.857</td>\n",
       "      <td>191.357</td>\n",
       "      <td>2.0</td>\n",
       "      <td>0.04</td>\n",
       "      <td>0.015</td>\n",
       "    </tr>\n",
       "    <tr>\n",
       "      <th>5</th>\n",
       "      <td>192.857</td>\n",
       "      <td>195.679</td>\n",
       "      <td>194.178</td>\n",
       "      <td>6.0</td>\n",
       "      <td>0.12</td>\n",
       "      <td>0.045</td>\n",
       "    </tr>\n",
       "    <tr>\n",
       "      <th>6</th>\n",
       "      <td>195.679</td>\n",
       "      <td>198.500</td>\n",
       "      <td>197.000</td>\n",
       "      <td>5.0</td>\n",
       "      <td>0.10</td>\n",
       "      <td>0.038</td>\n",
       "    </tr>\n",
       "    <tr>\n",
       "      <th>7</th>\n",
       "      <td>198.500</td>\n",
       "      <td>201.321</td>\n",
       "      <td>199.821</td>\n",
       "      <td>9.0</td>\n",
       "      <td>0.18</td>\n",
       "      <td>0.068</td>\n",
       "    </tr>\n",
       "    <tr>\n",
       "      <th>8</th>\n",
       "      <td>201.321</td>\n",
       "      <td>204.143</td>\n",
       "      <td>202.642</td>\n",
       "      <td>7.0</td>\n",
       "      <td>0.14</td>\n",
       "      <td>0.053</td>\n",
       "    </tr>\n",
       "    <tr>\n",
       "      <th>9</th>\n",
       "      <td>204.143</td>\n",
       "      <td>206.964</td>\n",
       "      <td>205.464</td>\n",
       "      <td>5.0</td>\n",
       "      <td>0.10</td>\n",
       "      <td>0.038</td>\n",
       "    </tr>\n",
       "    <tr>\n",
       "      <th>10</th>\n",
       "      <td>206.964</td>\n",
       "      <td>209.786</td>\n",
       "      <td>208.285</td>\n",
       "      <td>6.0</td>\n",
       "      <td>0.12</td>\n",
       "      <td>0.045</td>\n",
       "    </tr>\n",
       "    <tr>\n",
       "      <th>11</th>\n",
       "      <td>209.786</td>\n",
       "      <td>212.607</td>\n",
       "      <td>211.107</td>\n",
       "      <td>3.0</td>\n",
       "      <td>0.06</td>\n",
       "      <td>0.023</td>\n",
       "    </tr>\n",
       "    <tr>\n",
       "      <th>12</th>\n",
       "      <td>212.607</td>\n",
       "      <td>215.429</td>\n",
       "      <td>213.928</td>\n",
       "      <td>1.0</td>\n",
       "      <td>0.02</td>\n",
       "      <td>0.008</td>\n",
       "    </tr>\n",
       "    <tr>\n",
       "      <th>13</th>\n",
       "      <td>215.429</td>\n",
       "      <td>218.250</td>\n",
       "      <td>216.750</td>\n",
       "      <td>1.0</td>\n",
       "      <td>0.02</td>\n",
       "      <td>0.008</td>\n",
       "    </tr>\n",
       "  </tbody>\n",
       "</table>\n",
       "</div>"
      ],
      "text/plain": [
       "     Minimo  Massimo   Centro  Frequenze assolute  Frequenze relative  Densità\n",
       "0   178.750  181.571  180.071                 1.0                0.02    0.008\n",
       "1   181.571  184.393  182.892                 1.0                0.02    0.008\n",
       "2   184.393  187.214  185.714                 2.0                0.04    0.015\n",
       "3   187.214  190.036  188.535                 1.0                0.02    0.008\n",
       "4   190.036  192.857  191.357                 2.0                0.04    0.015\n",
       "5   192.857  195.679  194.178                 6.0                0.12    0.045\n",
       "6   195.679  198.500  197.000                 5.0                0.10    0.038\n",
       "7   198.500  201.321  199.821                 9.0                0.18    0.068\n",
       "8   201.321  204.143  202.642                 7.0                0.14    0.053\n",
       "9   204.143  206.964  205.464                 5.0                0.10    0.038\n",
       "10  206.964  209.786  208.285                 6.0                0.12    0.045\n",
       "11  209.786  212.607  211.107                 3.0                0.06    0.023\n",
       "12  212.607  215.429  213.928                 1.0                0.02    0.008\n",
       "13  215.429  218.250  216.750                 1.0                0.02    0.008"
      ]
     },
     "execution_count": 409,
     "metadata": {},
     "output_type": "execute_result"
    }
   ],
   "source": [
    "righe = []\n",
    "colonne = [\"Minimo\", \"Massimo\", \"Centro\", \"Frequenze assolute\", \"Frequenze relative\", \"Densità\"]\n",
    "for i in range(n_classi):\n",
    "    righe.append([classi[i], classi[i + 1], centri[i], frequenze[i], frequenze_rel[i], densita[i]])\n",
    "\n",
    "pd.DataFrame(righe, columns=colonne)"
   ]
  },
  {
   "cell_type": "markdown",
   "metadata": {},
   "source": [
    "## Confronto tra l'istogramma finale e la distribuzione normale"
   ]
  },
  {
   "cell_type": "code",
   "execution_count": 410,
   "metadata": {},
   "outputs": [
    {
     "data": {
      "text/plain": [
       "<matplotlib.legend.Legend at 0x20c9fad4290>"
      ]
     },
     "execution_count": 410,
     "metadata": {},
     "output_type": "execute_result"
    },
    {
     "data": {
      "image/png": "[encoded data removed]",
      "text/plain": [
       "<Figure size 800x600 with 1 Axes>"
      ]
     },
     "metadata": {},
     "output_type": "display_data"
    }
   ],
   "source": [
    "x = np.linspace(170, 230, 1000)\n",
    "y = dati.size * larghezza * 1 / (devstd_emp * np.sqrt(2 * np.pi)) * np.exp(-(x - media)**2 / (2 * varianza_emp))\n",
    "\n",
    "fig, ax = plt.subplots(figsize=(8, 6))\n",
    "\n",
    "ax.set_xlabel(\"Tempi misurati [ms]\")\n",
    "ax.set_ylabel(\"Frequenze assolute\")\n",
    "\n",
    "ax.hist(dati, n_classi, range=intervallo, color=\"C9\")\n",
    "ax.plot(x, y, c='black', label=r\"$\\frac{1}{\\sigma \\sqrt{2 \\pi}} e^{-\\frac{(x - \\mu)^2}{2 \\sigma^2}}$\")\n",
    "\n",
    "ax.legend()"
   ]
  }
 ],
 "metadata": {
  "hide_input": false,
  "kernelspec": {
   "display_name": "Python 3 (ipykernel)",
   "language": "python",
   "name": "python3"
  },
  "language_info": {
   "codemirror_mode": {
    "name": "ipython",
    "version": 3
   },
   "file_extension": ".py",
   "mimetype": "text/x-python",
   "name": "python",
   "nbconvert_exporter": "python",
   "pygments_lexer": "ipython3",
   "version": "3.11.5"
  },
  "toc": {
   "base_numbering": 1,
   "nav_menu": {},
   "number_sections": true,
   "sideBar": true,
   "skip_h1_title": true,
   "title_cell": "Table of Contents",
   "title_sidebar": "Contents",
   "toc_cell": false,
   "toc_position": {},
   "toc_section_display": true,
   "toc_window_display": false
  },
  "varInspector": {
   "cols": {
    "lenName": 16,
    "lenType": 16,
    "lenVar": 40
   },
   "kernels_config": {
    "python": {
     "delete_cmd_postfix": "",
     "delete_cmd_prefix": "del ",
     "library": "var_list.py",
     "varRefreshCmd": "print(var_dic_list())"
    },
    "r": {
     "delete_cmd_postfix": ") ",
     "delete_cmd_prefix": "rm(",
     "library": "var_list.r",
     "varRefreshCmd": "cat(var_dic_list()) "
    }
   },
   "types_to_exclude": [
    "module",
    "function",
    "builtin_function_or_method",
    "instance",
    "_Feature"
   ],
   "window_display": false
  }
 },
 "nbformat": 4,
 "nbformat_minor": 4
}
